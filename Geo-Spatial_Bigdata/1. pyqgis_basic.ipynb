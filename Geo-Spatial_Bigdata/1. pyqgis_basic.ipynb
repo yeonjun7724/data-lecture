{
 "cells": [
  {
   "cell_type": "code",
   "execution_count": 1,
   "id": "d658cc8b-c193-43d1-b135-70de7b835129",
   "metadata": {},
   "outputs": [
    {
     "ename": "NameError",
     "evalue": "name 'QgsVectorLayer' is not defined",
     "output_type": "error",
     "traceback": [
      "\u001b[1;31m---------------------------------------------------------------------------\u001b[0m",
      "\u001b[1;31mNameError\u001b[0m                                 Traceback (most recent call last)",
      "Cell \u001b[1;32mIn[1], line 3\u001b[0m\n\u001b[0;32m      1\u001b[0m \u001b[38;5;66;03m# 첫 번째 벡터 레이어 불러오기\u001b[39;00m\n\u001b[0;32m      2\u001b[0m layer_path_1 \u001b[38;5;241m=\u001b[39m \u001b[38;5;124m\"\u001b[39m\u001b[38;5;124m/_jupyter_notebook/orgin_computer/seoul_sgg.shp\u001b[39m\u001b[38;5;124m\"\u001b[39m  \u001b[38;5;66;03m# 첫 번째 벡터 파일 경로\u001b[39;00m\n\u001b[1;32m----> 3\u001b[0m layer_1 \u001b[38;5;241m=\u001b[39m QgsVectorLayer(layer_path_1, \u001b[38;5;124m\"\u001b[39m\u001b[38;5;124mseoul_sgg\u001b[39m\u001b[38;5;124m\"\u001b[39m, \u001b[38;5;124m\"\u001b[39m\u001b[38;5;124mogr\u001b[39m\u001b[38;5;124m\"\u001b[39m)\n\u001b[0;32m      5\u001b[0m \u001b[38;5;28;01mif\u001b[39;00m \u001b[38;5;129;01mnot\u001b[39;00m layer_1\u001b[38;5;241m.\u001b[39misValid():\n\u001b[0;32m      6\u001b[0m     \u001b[38;5;28mprint\u001b[39m(\u001b[38;5;124m\"\u001b[39m\u001b[38;5;124mFirst layer failed to load!\u001b[39m\u001b[38;5;124m\"\u001b[39m)\n",
      "\u001b[1;31mNameError\u001b[0m: name 'QgsVectorLayer' is not defined"
     ]
    }
   ],
   "source": [
    "# 첫 번째 벡터 레이어 불러오기\n",
    "layer_path_1 = \"/_jupyter_notebook/orgin_computer/seoul_sgg.shp\"  # 첫 번째 벡터 파일 경로\n",
    "layer_1 = QgsVectorLayer(layer_path_1, \"seoul_sgg\", \"ogr\")\n",
    "\n",
    "if not layer_1.isValid():\n",
    "    print(\"First layer failed to load!\")\n",
    "else:\n",
    "    QgsProject.instance().addMapLayer(layer_1)"
   ]
  },
  {
   "cell_type": "code",
   "execution_count": 3,
   "id": "01dc7d81-f388-4df3-a041-80f0f565caae",
   "metadata": {},
   "outputs": [
    {
     "ename": "NameError",
     "evalue": "name 'QgsVectorLayer' is not defined",
     "output_type": "error",
     "traceback": [
      "\u001b[1;31m---------------------------------------------------------------------------\u001b[0m",
      "\u001b[1;31mNameError\u001b[0m                                 Traceback (most recent call last)",
      "Cell \u001b[1;32mIn[3], line 3\u001b[0m\n\u001b[0;32m      1\u001b[0m \u001b[38;5;66;03m# 두 번째 벡터 레이어 불러오기\u001b[39;00m\n\u001b[0;32m      2\u001b[0m layer_path_2 \u001b[38;5;241m=\u001b[39m \u001b[38;5;124m\"\u001b[39m\u001b[38;5;124m/_jupyter_notebook/orgin_computer/seoul_toilet.shp\u001b[39m\u001b[38;5;124m\"\u001b[39m  \u001b[38;5;66;03m# 두 번째 벡터 파일 경로\u001b[39;00m\n\u001b[1;32m----> 3\u001b[0m layer_2 \u001b[38;5;241m=\u001b[39m QgsVectorLayer(layer_path_2, \u001b[38;5;124m\"\u001b[39m\u001b[38;5;124mseoul_toilet\u001b[39m\u001b[38;5;124m\"\u001b[39m, \u001b[38;5;124m\"\u001b[39m\u001b[38;5;124mogr\u001b[39m\u001b[38;5;124m\"\u001b[39m)\n\u001b[0;32m      5\u001b[0m \u001b[38;5;28;01mif\u001b[39;00m \u001b[38;5;129;01mnot\u001b[39;00m layer_2\u001b[38;5;241m.\u001b[39misValid():\n\u001b[0;32m      6\u001b[0m     \u001b[38;5;28mprint\u001b[39m(\u001b[38;5;124m\"\u001b[39m\u001b[38;5;124mSecond layer failed to load!\u001b[39m\u001b[38;5;124m\"\u001b[39m)\n",
      "\u001b[1;31mNameError\u001b[0m: name 'QgsVectorLayer' is not defined"
     ]
    }
   ],
   "source": [
    "# 두 번째 벡터 레이어 불러오기\n",
    "layer_path_2 = \"/_jupyter_notebook/orgin_computer/seoul_toilet.shp\"  # 두 번째 벡터 파일 경로\n",
    "layer_2 = QgsVectorLayer(layer_path_2, \"seoul_toilet\", \"ogr\")\n",
    "\n",
    "if not layer_2.isValid():\n",
    "    print(\"Second layer failed to load!\")\n",
    "else:\n",
    "    QgsProject.instance().addMapLayer(layer_2)"
   ]
  },
  {
   "cell_type": "code",
   "execution_count": 5,
   "id": "0c01865e-ca26-48b9-bb55-c09ad8bf57b3",
   "metadata": {},
   "outputs": [],
   "source": [
    "# 버퍼 거리 설정\n",
    "buffer_distance = 100  # 100미터"
   ]
  },
  {
   "cell_type": "code",
   "execution_count": 7,
   "id": "2f5d116b-b652-4fb1-a5f6-a87c8b1ae9c0",
   "metadata": {},
   "outputs": [],
   "source": [
    "# 버퍼 레이어 출력 경로 설정\n",
    "buffer_output_path = \"/_jupyter_notebook/orgin_computer/seoul_toilet_buffered.shp\"  # 버퍼 출력 파일 경로"
   ]
  },
  {
   "cell_type": "code",
   "execution_count": 9,
   "id": "3afb3468-96e0-44bb-86c1-a4341fa18831",
   "metadata": {},
   "outputs": [
    {
     "ename": "NameError",
     "evalue": "name 'processing' is not defined",
     "output_type": "error",
     "traceback": [
      "\u001b[1;31m---------------------------------------------------------------------------\u001b[0m",
      "\u001b[1;31mNameError\u001b[0m                                 Traceback (most recent call last)",
      "Cell \u001b[1;32mIn[9], line 2\u001b[0m\n\u001b[0;32m      1\u001b[0m \u001b[38;5;66;03m# 버퍼 생성\u001b[39;00m\n\u001b[1;32m----> 2\u001b[0m processing\u001b[38;5;241m.\u001b[39mrun(\u001b[38;5;124m\"\u001b[39m\u001b[38;5;124mnative:buffer\u001b[39m\u001b[38;5;124m\"\u001b[39m, {\n\u001b[0;32m      3\u001b[0m     \u001b[38;5;124m'\u001b[39m\u001b[38;5;124mINPUT\u001b[39m\u001b[38;5;124m'\u001b[39m: layer_2,\n\u001b[0;32m      4\u001b[0m     \u001b[38;5;124m'\u001b[39m\u001b[38;5;124mDISTANCE\u001b[39m\u001b[38;5;124m'\u001b[39m: buffer_distance,\n\u001b[0;32m      5\u001b[0m     \u001b[38;5;124m'\u001b[39m\u001b[38;5;124mSEGMENTS\u001b[39m\u001b[38;5;124m'\u001b[39m: \u001b[38;5;241m5\u001b[39m,\n\u001b[0;32m      6\u001b[0m     \u001b[38;5;124m'\u001b[39m\u001b[38;5;124mEND_CAP_STYLE\u001b[39m\u001b[38;5;124m'\u001b[39m: \u001b[38;5;241m0\u001b[39m,  \u001b[38;5;66;03m# Flat\u001b[39;00m\n\u001b[0;32m      7\u001b[0m     \u001b[38;5;124m'\u001b[39m\u001b[38;5;124mJOIN_STYLE\u001b[39m\u001b[38;5;124m'\u001b[39m: \u001b[38;5;241m0\u001b[39m,     \u001b[38;5;66;03m# Round\u001b[39;00m\n\u001b[0;32m      8\u001b[0m     \u001b[38;5;124m'\u001b[39m\u001b[38;5;124mMITER_LIMIT\u001b[39m\u001b[38;5;124m'\u001b[39m: \u001b[38;5;241m2\u001b[39m,\n\u001b[0;32m      9\u001b[0m     \u001b[38;5;124m'\u001b[39m\u001b[38;5;124mDISSOLVE\u001b[39m\u001b[38;5;124m'\u001b[39m: \u001b[38;5;28;01mFalse\u001b[39;00m,\n\u001b[0;32m     10\u001b[0m     \u001b[38;5;124m'\u001b[39m\u001b[38;5;124mOUTPUT\u001b[39m\u001b[38;5;124m'\u001b[39m: buffer_output_path\n\u001b[0;32m     11\u001b[0m })\n",
      "\u001b[1;31mNameError\u001b[0m: name 'processing' is not defined"
     ]
    }
   ],
   "source": [
    "# 버퍼 생성\n",
    "processing.run(\"native:buffer\", {\n",
    "    'INPUT': layer_2,\n",
    "    'DISTANCE': buffer_distance,\n",
    "    'SEGMENTS': 5,\n",
    "    'END_CAP_STYLE': 0,  # Flat\n",
    "    'JOIN_STYLE': 0,     # Round\n",
    "    'MITER_LIMIT': 2,\n",
    "    'DISSOLVE': False,\n",
    "    'OUTPUT': buffer_output_path\n",
    "})"
   ]
  },
  {
   "cell_type": "code",
   "execution_count": 11,
   "id": "b3ed3484-a915-4e05-a7c3-a4d9678cbf43",
   "metadata": {},
   "outputs": [
    {
     "ename": "NameError",
     "evalue": "name 'QgsVectorLayer' is not defined",
     "output_type": "error",
     "traceback": [
      "\u001b[1;31m---------------------------------------------------------------------------\u001b[0m",
      "\u001b[1;31mNameError\u001b[0m                                 Traceback (most recent call last)",
      "Cell \u001b[1;32mIn[11], line 2\u001b[0m\n\u001b[0;32m      1\u001b[0m \u001b[38;5;66;03m# 생성된 버퍼 레이어를 불러와서 프로젝트에 추가\u001b[39;00m\n\u001b[1;32m----> 2\u001b[0m buffer_layer \u001b[38;5;241m=\u001b[39m QgsVectorLayer(buffer_output_path, \u001b[38;5;124m\"\u001b[39m\u001b[38;5;124mseoul_toilet_buffer\u001b[39m\u001b[38;5;124m\"\u001b[39m, \u001b[38;5;124m\"\u001b[39m\u001b[38;5;124mogr\u001b[39m\u001b[38;5;124m\"\u001b[39m)\n\u001b[0;32m      3\u001b[0m \u001b[38;5;28;01mif\u001b[39;00m \u001b[38;5;129;01mnot\u001b[39;00m buffer_layer\u001b[38;5;241m.\u001b[39misValid():\n\u001b[0;32m      4\u001b[0m     \u001b[38;5;28mprint\u001b[39m(\u001b[38;5;124m\"\u001b[39m\u001b[38;5;124mBuffer layer failed to load!\u001b[39m\u001b[38;5;124m\"\u001b[39m)\n",
      "\u001b[1;31mNameError\u001b[0m: name 'QgsVectorLayer' is not defined"
     ]
    }
   ],
   "source": [
    "# 생성된 버퍼 레이어를 불러와서 프로젝트에 추가\n",
    "buffer_layer = QgsVectorLayer(buffer_output_path, \"seoul_toilet_buffer\", \"ogr\")\n",
    "if not buffer_layer.isValid():\n",
    "    print(\"Buffer layer failed to load!\")\n",
    "else:\n",
    "    QgsProject.instance().addMapLayer(buffer_layer)"
   ]
  },
  {
   "cell_type": "code",
   "execution_count": 13,
   "id": "e3601572-6fc0-4304-bc61-8d5ab48f9712",
   "metadata": {},
   "outputs": [
    {
     "ename": "NameError",
     "evalue": "name 'QgsProject' is not defined",
     "output_type": "error",
     "traceback": [
      "\u001b[1;31m---------------------------------------------------------------------------\u001b[0m",
      "\u001b[1;31mNameError\u001b[0m                                 Traceback (most recent call last)",
      "Cell \u001b[1;32mIn[13], line 2\u001b[0m\n\u001b[0;32m      1\u001b[0m \u001b[38;5;66;03m# 폴리곤 레이어 불러오기\u001b[39;00m\n\u001b[1;32m----> 2\u001b[0m polygon_layer \u001b[38;5;241m=\u001b[39m QgsProject\u001b[38;5;241m.\u001b[39minstance()\u001b[38;5;241m.\u001b[39mmapLayersByName(\u001b[38;5;124m\"\u001b[39m\u001b[38;5;124mseoul_sgg\u001b[39m\u001b[38;5;124m\"\u001b[39m)\n",
      "\u001b[1;31mNameError\u001b[0m: name 'QgsProject' is not defined"
     ]
    }
   ],
   "source": [
    "# 폴리곤 레이어 불러오기\n",
    "polygon_layer = QgsProject.instance().mapLayersByName(\"seoul_sgg\")"
   ]
  },
  {
   "cell_type": "code",
   "execution_count": 15,
   "id": "a006d2e5-5502-4299-9626-d47df8a006dc",
   "metadata": {},
   "outputs": [
    {
     "ename": "NameError",
     "evalue": "name 'QgsVectorLayer' is not defined",
     "output_type": "error",
     "traceback": [
      "\u001b[1;31m---------------------------------------------------------------------------\u001b[0m",
      "\u001b[1;31mNameError\u001b[0m                                 Traceback (most recent call last)",
      "Cell \u001b[1;32mIn[15], line 2\u001b[0m\n\u001b[0;32m      1\u001b[0m \u001b[38;5;66;03m# 중심점 레이어 생성\u001b[39;00m\n\u001b[1;32m----> 2\u001b[0m centroid_layer \u001b[38;5;241m=\u001b[39m QgsVectorLayer(\u001b[38;5;124m\"\u001b[39m\u001b[38;5;124mPoint?crs=EPSG:5179\u001b[39m\u001b[38;5;124m\"\u001b[39m, \u001b[38;5;124m\"\u001b[39m\u001b[38;5;124mseoul_sgg_centroids\u001b[39m\u001b[38;5;124m\"\u001b[39m, \u001b[38;5;124m\"\u001b[39m\u001b[38;5;124mmemory\u001b[39m\u001b[38;5;124m\"\u001b[39m)\n\u001b[0;32m      3\u001b[0m centroid_layer_data \u001b[38;5;241m=\u001b[39m centroid_layer\u001b[38;5;241m.\u001b[39mdataProvider()\n",
      "\u001b[1;31mNameError\u001b[0m: name 'QgsVectorLayer' is not defined"
     ]
    }
   ],
   "source": [
    "# 중심점 레이어 생성\n",
    "centroid_layer = QgsVectorLayer(\"Point?crs=EPSG:5179\", \"seoul_sgg_centroids\", \"memory\")\n",
    "centroid_layer_data = centroid_layer.dataProvider()"
   ]
  },
  {
   "cell_type": "code",
   "execution_count": 17,
   "id": "cc5b8861-0bbb-46ac-af7e-98aa7bcdeacb",
   "metadata": {},
   "outputs": [
    {
     "ename": "NameError",
     "evalue": "name 'centroid_layer_data' is not defined",
     "output_type": "error",
     "traceback": [
      "\u001b[1;31m---------------------------------------------------------------------------\u001b[0m",
      "\u001b[1;31mNameError\u001b[0m                                 Traceback (most recent call last)",
      "Cell \u001b[1;32mIn[17], line 2\u001b[0m\n\u001b[0;32m      1\u001b[0m \u001b[38;5;66;03m# 기존 레이어의 속성 필드 추가\u001b[39;00m\n\u001b[1;32m----> 2\u001b[0m centroid_layer_data\u001b[38;5;241m.\u001b[39maddAttributes(polygon_layer\u001b[38;5;241m.\u001b[39mfields())\n\u001b[0;32m      3\u001b[0m centroid_layer\u001b[38;5;241m.\u001b[39mupdateFields()\n",
      "\u001b[1;31mNameError\u001b[0m: name 'centroid_layer_data' is not defined"
     ]
    }
   ],
   "source": [
    "# 기존 레이어의 속성 필드 추가\n",
    "centroid_layer_data.addAttributes(polygon_layer.fields())\n",
    "centroid_layer.updateFields()"
   ]
  },
  {
   "cell_type": "code",
   "execution_count": 19,
   "id": "880d75da-ee46-4c5e-ae07-a93aa25fd89b",
   "metadata": {},
   "outputs": [
    {
     "ename": "NameError",
     "evalue": "name 'polygon_layer' is not defined",
     "output_type": "error",
     "traceback": [
      "\u001b[1;31m---------------------------------------------------------------------------\u001b[0m",
      "\u001b[1;31mNameError\u001b[0m                                 Traceback (most recent call last)",
      "Cell \u001b[1;32mIn[19], line 2\u001b[0m\n\u001b[0;32m      1\u001b[0m \u001b[38;5;66;03m# 중심점 생성\u001b[39;00m\n\u001b[1;32m----> 2\u001b[0m \u001b[38;5;28;01mfor\u001b[39;00m feature \u001b[38;5;129;01min\u001b[39;00m polygon_layer\u001b[38;5;241m.\u001b[39mgetFeatures():\n\u001b[0;32m      3\u001b[0m     centroid \u001b[38;5;241m=\u001b[39m feature\u001b[38;5;241m.\u001b[39mgeometry()\u001b[38;5;241m.\u001b[39mcentroid()\n\u001b[0;32m      4\u001b[0m     centroid_feature \u001b[38;5;241m=\u001b[39m QgsFeature()\n",
      "\u001b[1;31mNameError\u001b[0m: name 'polygon_layer' is not defined"
     ]
    }
   ],
   "source": [
    "# 중심점 생성\n",
    "for feature in polygon_layer.getFeatures():\n",
    "    centroid = feature.geometry().centroid()\n",
    "    centroid_feature = QgsFeature()\n",
    "    centroid_feature.setGeometry(centroid)\n",
    "    centroid_feature.setAttributes(feature.attributes())\n",
    "    centroid_layer_data.addFeature(centroid_feature)"
   ]
  },
  {
   "cell_type": "code",
   "execution_count": 21,
   "id": "d6409aa2-085a-4b93-9372-721f50f49cad",
   "metadata": {},
   "outputs": [
    {
     "ename": "NameError",
     "evalue": "name 'QgsProject' is not defined",
     "output_type": "error",
     "traceback": [
      "\u001b[1;31m---------------------------------------------------------------------------\u001b[0m",
      "\u001b[1;31mNameError\u001b[0m                                 Traceback (most recent call last)",
      "Cell \u001b[1;32mIn[21], line 2\u001b[0m\n\u001b[0;32m      1\u001b[0m \u001b[38;5;66;03m# 결과 레이어 추가\u001b[39;00m\n\u001b[1;32m----> 2\u001b[0m QgsProject\u001b[38;5;241m.\u001b[39minstance()\u001b[38;5;241m.\u001b[39maddMapLayer(centroid_layer)\n",
      "\u001b[1;31mNameError\u001b[0m: name 'QgsProject' is not defined"
     ]
    }
   ],
   "source": [
    "# 결과 레이어 추가\n",
    "QgsProject.instance().addMapLayer(centroid_layer)"
   ]
  },
  {
   "cell_type": "code",
   "execution_count": 23,
   "id": "ff3e18ec-8200-4c28-87f2-3b35dea1d3f8",
   "metadata": {},
   "outputs": [
    {
     "ename": "NameError",
     "evalue": "name 'QgsProject' is not defined",
     "output_type": "error",
     "traceback": [
      "\u001b[1;31m---------------------------------------------------------------------------\u001b[0m",
      "\u001b[1;31mNameError\u001b[0m                                 Traceback (most recent call last)",
      "Cell \u001b[1;32mIn[23], line 2\u001b[0m\n\u001b[0;32m      1\u001b[0m \u001b[38;5;66;03m# 레이어 설정\u001b[39;00m\n\u001b[1;32m----> 2\u001b[0m input_layer \u001b[38;5;241m=\u001b[39m QgsProject\u001b[38;5;241m.\u001b[39minstance()\u001b[38;5;241m.\u001b[39mmapLayersByName(\u001b[38;5;124m\"\u001b[39m\u001b[38;5;124mseoul_sgg\u001b[39m\u001b[38;5;124m\"\u001b[39m)[\u001b[38;5;241m0\u001b[39m]\n",
      "\u001b[1;31mNameError\u001b[0m: name 'QgsProject' is not defined"
     ]
    }
   ],
   "source": [
    "# 레이어 설정\n",
    "input_layer = QgsProject.instance().mapLayersByName(\"seoul_sgg\")[0]"
   ]
  },
  {
   "cell_type": "code",
   "execution_count": 25,
   "id": "eecbda7e-0e4a-4a52-9e2b-d17dac5c4fe2",
   "metadata": {},
   "outputs": [
    {
     "ename": "NameError",
     "evalue": "name 'processing' is not defined",
     "output_type": "error",
     "traceback": [
      "\u001b[1;31m---------------------------------------------------------------------------\u001b[0m",
      "\u001b[1;31mNameError\u001b[0m                                 Traceback (most recent call last)",
      "Cell \u001b[1;32mIn[25], line 2\u001b[0m\n\u001b[0;32m      1\u001b[0m \u001b[38;5;66;03m# Convex Hull 생성\u001b[39;00m\n\u001b[1;32m----> 2\u001b[0m convex_hull_result \u001b[38;5;241m=\u001b[39m processing\u001b[38;5;241m.\u001b[39mrun(\u001b[38;5;124m\"\u001b[39m\u001b[38;5;124mnative:convexhull\u001b[39m\u001b[38;5;124m\"\u001b[39m, {\n\u001b[0;32m      3\u001b[0m     \u001b[38;5;124m'\u001b[39m\u001b[38;5;124mINPUT\u001b[39m\u001b[38;5;124m'\u001b[39m: input_layer,\n\u001b[0;32m      4\u001b[0m     \u001b[38;5;124m'\u001b[39m\u001b[38;5;124mOUTPUT\u001b[39m\u001b[38;5;124m'\u001b[39m: \u001b[38;5;124m'\u001b[39m\u001b[38;5;124mmemory:\u001b[39m\u001b[38;5;124m'\u001b[39m\n\u001b[0;32m      5\u001b[0m })\n",
      "\u001b[1;31mNameError\u001b[0m: name 'processing' is not defined"
     ]
    }
   ],
   "source": [
    "# Convex Hull 생성\n",
    "convex_hull_result = processing.run(\"native:convexhull\", {\n",
    "    'INPUT': input_layer,\n",
    "    'OUTPUT': 'memory:'\n",
    "})"
   ]
  },
  {
   "cell_type": "code",
   "execution_count": 27,
   "id": "badb7e14-2d18-4f3e-b41f-4f3b81733bdb",
   "metadata": {},
   "outputs": [
    {
     "ename": "NameError",
     "evalue": "name 'convex_hull_result' is not defined",
     "output_type": "error",
     "traceback": [
      "\u001b[1;31m---------------------------------------------------------------------------\u001b[0m",
      "\u001b[1;31mNameError\u001b[0m                                 Traceback (most recent call last)",
      "Cell \u001b[1;32mIn[27], line 2\u001b[0m\n\u001b[0;32m      1\u001b[0m \u001b[38;5;66;03m# 결과 레이어 추가\u001b[39;00m\n\u001b[1;32m----> 2\u001b[0m convex_hull_layer \u001b[38;5;241m=\u001b[39m convex_hull_result[\u001b[38;5;124m'\u001b[39m\u001b[38;5;124mOUTPUT\u001b[39m\u001b[38;5;124m'\u001b[39m]\n\u001b[0;32m      3\u001b[0m QgsProject\u001b[38;5;241m.\u001b[39minstance()\u001b[38;5;241m.\u001b[39maddMapLayer(convex_hull_layer)\n",
      "\u001b[1;31mNameError\u001b[0m: name 'convex_hull_result' is not defined"
     ]
    }
   ],
   "source": [
    "# 결과 레이어 추가\n",
    "convex_hull_layer = convex_hull_result['OUTPUT']\n",
    "QgsProject.instance().addMapLayer(convex_hull_layer)"
   ]
  },
  {
   "cell_type": "code",
   "execution_count": null,
   "id": "19096cf3-71ee-4302-a4df-188eab1541de",
   "metadata": {},
   "outputs": [],
   "source": [
    "# 속성 테이블의 데이터 읽기\n",
    "for feature in layer.getFeatures():\n",
    "    print(feature['SIG_KOR_NM'])  # 실제 필드 이름을 사용하여 출력"
   ]
  },
  {
   "cell_type": "code",
   "execution_count": 29,
   "id": "72bbd54e-3270-47d4-9a2b-981a771fe316",
   "metadata": {},
   "outputs": [
    {
     "ename": "NameError",
     "evalue": "name 'QgsExpression' is not defined",
     "output_type": "error",
     "traceback": [
      "\u001b[1;31m---------------------------------------------------------------------------\u001b[0m",
      "\u001b[1;31mNameError\u001b[0m                                 Traceback (most recent call last)",
      "Cell \u001b[1;32mIn[29], line 2\u001b[0m\n\u001b[0;32m      1\u001b[0m \u001b[38;5;66;03m# 특정 조건으로 필터링\u001b[39;00m\n\u001b[1;32m----> 2\u001b[0m expression \u001b[38;5;241m=\u001b[39m QgsExpression(\u001b[38;5;124m\"\u001b[39m\u001b[38;5;124mSIG_KOR_NM = \u001b[39m\u001b[38;5;124m'\u001b[39m\u001b[38;5;124m동대문구\u001b[39m\u001b[38;5;124m'\u001b[39m\u001b[38;5;124m\"\u001b[39m)  \u001b[38;5;66;03m# 필드 이름과 값을 수정하여 조건 설정\u001b[39;00m\n\u001b[0;32m      3\u001b[0m request \u001b[38;5;241m=\u001b[39m QgsFeatureRequest(expression)\n",
      "\u001b[1;31mNameError\u001b[0m: name 'QgsExpression' is not defined"
     ]
    }
   ],
   "source": [
    "# 특정 조건으로 필터링\n",
    "expression = QgsExpression(\"SIG_KOR_NM = '동대문구'\")  # 필드 이름과 값을 수정하여 조건 설정\n",
    "request = QgsFeatureRequest(expression)\n",
    "print('필터링 된 구만 선택')"
   ]
  },
  {
   "cell_type": "code",
   "execution_count": 31,
   "id": "971bd898-13ff-42ce-94a2-12a8ce8c0e0b",
   "metadata": {},
   "outputs": [
    {
     "ename": "NameError",
     "evalue": "name 'layer' is not defined",
     "output_type": "error",
     "traceback": [
      "\u001b[1;31m---------------------------------------------------------------------------\u001b[0m",
      "\u001b[1;31mNameError\u001b[0m                                 Traceback (most recent call last)",
      "Cell \u001b[1;32mIn[31], line 2\u001b[0m\n\u001b[0;32m      1\u001b[0m \u001b[38;5;66;03m# 필터링된 결과 출력\u001b[39;00m\n\u001b[1;32m----> 2\u001b[0m \u001b[38;5;28;01mfor\u001b[39;00m feature \u001b[38;5;129;01min\u001b[39;00m layer\u001b[38;5;241m.\u001b[39mgetFeatures(request):\n\u001b[0;32m      3\u001b[0m     \u001b[38;5;28mprint\u001b[39m(feature[\u001b[38;5;124m'\u001b[39m\u001b[38;5;124mSIG_KOR_NM\u001b[39m\u001b[38;5;124m'\u001b[39m])\n",
      "\u001b[1;31mNameError\u001b[0m: name 'layer' is not defined"
     ]
    }
   ],
   "source": [
    "# 필터링된 결과 출력\n",
    "for feature in layer.getFeatures(request):\n",
    "    print(feature['SIG_KOR_NM'])  # '동대문구'인 레코드만 출력됨"
   ]
  },
  {
   "cell_type": "code",
   "execution_count": 33,
   "id": "4eea0493-62ef-4c4c-aa07-3d2b3e15fde6",
   "metadata": {},
   "outputs": [
    {
     "ename": "ModuleNotFoundError",
     "evalue": "No module named 'qgis'",
     "output_type": "error",
     "traceback": [
      "\u001b[1;31m---------------------------------------------------------------------------\u001b[0m",
      "\u001b[1;31mModuleNotFoundError\u001b[0m                       Traceback (most recent call last)",
      "Cell \u001b[1;32mIn[33], line 2\u001b[0m\n\u001b[0;32m      1\u001b[0m \u001b[38;5;66;03m# 필요한 라이브러리 임포트\u001b[39;00m\n\u001b[1;32m----> 2\u001b[0m \u001b[38;5;28;01mfrom\u001b[39;00m \u001b[38;5;21;01mqgis\u001b[39;00m\u001b[38;5;21;01m.\u001b[39;00m\u001b[38;5;21;01mPyQt\u001b[39;00m\u001b[38;5;21;01m.\u001b[39;00m\u001b[38;5;21;01mQtCore\u001b[39;00m \u001b[38;5;28;01mimport\u001b[39;00m QVariant\n\u001b[0;32m      4\u001b[0m \u001b[38;5;66;03m# 레이어 불러오기\u001b[39;00m\n\u001b[0;32m      5\u001b[0m sgg_layer \u001b[38;5;241m=\u001b[39m QgsProject\u001b[38;5;241m.\u001b[39minstance()\u001b[38;5;241m.\u001b[39mmapLayersByName(\u001b[38;5;124m\"\u001b[39m\u001b[38;5;124mseoul_sgg\u001b[39m\u001b[38;5;124m\"\u001b[39m)[\u001b[38;5;241m0\u001b[39m]\n",
      "\u001b[1;31mModuleNotFoundError\u001b[0m: No module named 'qgis'"
     ]
    }
   ],
   "source": [
    "# 필요한 라이브러리 임포트\n",
    "from qgis.PyQt.QtCore import QVariant\n",
    "\n",
    "# 레이어 불러오기\n",
    "sgg_layer = QgsProject.instance().mapLayersByName(\"seoul_sgg\")[0]\n",
    "toilet_layer = QgsProject.instance().mapLayersByName(\"seoul_toilet\")[0]"
   ]
  },
  {
   "cell_type": "code",
   "execution_count": 35,
   "id": "c51b28e7-8634-4675-b6f5-d8762fe6c481",
   "metadata": {},
   "outputs": [
    {
     "ename": "NameError",
     "evalue": "name 'sgg_layer' is not defined",
     "output_type": "error",
     "traceback": [
      "\u001b[1;31m---------------------------------------------------------------------------\u001b[0m",
      "\u001b[1;31mNameError\u001b[0m                                 Traceback (most recent call last)",
      "Cell \u001b[1;32mIn[35], line 2\u001b[0m\n\u001b[0;32m      1\u001b[0m \u001b[38;5;66;03m# 'index'라는 새로운 필드를 sgg_layer에 추가\u001b[39;00m\n\u001b[1;32m----> 2\u001b[0m sgg_layer\u001b[38;5;241m.\u001b[39mdataProvider()\u001b[38;5;241m.\u001b[39maddAttributes([QgsField(\u001b[38;5;124m\"\u001b[39m\u001b[38;5;124mindex\u001b[39m\u001b[38;5;124m\"\u001b[39m, QVariant\u001b[38;5;241m.\u001b[39mInt)])\n\u001b[0;32m      3\u001b[0m sgg_layer\u001b[38;5;241m.\u001b[39mupdateFields()\n\u001b[0;32m      5\u001b[0m \u001b[38;5;66;03m# 'index' 필드의 인덱스 확인\u001b[39;00m\n",
      "\u001b[1;31mNameError\u001b[0m: name 'sgg_layer' is not defined"
     ]
    }
   ],
   "source": [
    "# 'index'라는 새로운 필드를 sgg_layer에 추가\n",
    "sgg_layer.dataProvider().addAttributes([QgsField(\"index\", QVariant.Int)])\n",
    "sgg_layer.updateFields()\n",
    "\n",
    "# 'index' 필드의 인덱스 확인\n",
    "index_field_idx = sgg_layer.fields().indexFromName(\"index\")"
   ]
  },
  {
   "cell_type": "code",
   "execution_count": null,
   "id": "c0981d02-30b9-4e16-ab7e-bc37604fed91",
   "metadata": {},
   "outputs": [],
   "source": [
    "# 각 seoul_sgg 폴리곤에 대해 seoul_toilet 포인트 개수를 계산하여 'index' 필드에 저장\n",
    "for sgg_feature in sgg_layer.getFeatures():\n",
    "    # 현재 폴리곤의 범위(bounding box)를 사용해 포함된 포인트 검색\n",
    "    count = 0\n",
    "    for toilet_feature in toilet_layer.getFeatures():\n",
    "        if sgg_feature.geometry().contains(toilet_feature.geometry()):\n",
    "            count += 1\n",
    "    \n",
    "    # 'index' 필드에 개수 저장\n",
    "    sgg_layer.startEditing()\n",
    "    sgg_feature[index_field_idx] = count\n",
    "    sgg_layer.updateFeature(sgg_feature)\n",
    "sgg_layer.commitChanges()"
   ]
  }
 ],
 "metadata": {
  "kernelspec": {
   "display_name": "Python 3 (ipykernel)",
   "language": "python",
   "name": "python3"
  },
  "language_info": {
   "codemirror_mode": {
    "name": "ipython",
    "version": 3
   },
   "file_extension": ".py",
   "mimetype": "text/x-python",
   "name": "python",
   "nbconvert_exporter": "python",
   "pygments_lexer": "ipython3",
   "version": "3.12.7"
  }
 },
 "nbformat": 4,
 "nbformat_minor": 5
}
